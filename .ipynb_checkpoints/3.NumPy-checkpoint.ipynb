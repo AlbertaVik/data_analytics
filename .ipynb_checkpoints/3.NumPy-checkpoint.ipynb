{
 "cells": [
  {
   "cell_type": "raw",
   "id": "237fb922",
   "metadata": {},
   "source": []
  },
  {
   "cell_type": "markdown",
   "id": "3c96ea6f",
   "metadata": {},
   "source": [
    "## Операции"
   ]
  },
  {
   "cell_type": "code",
   "execution_count": 2,
   "id": "17142637",
   "metadata": {},
   "outputs": [],
   "source": [
    "import numpy as np"
   ]
  },
  {
   "cell_type": "code",
   "execution_count": 3,
   "id": "b0908dc8",
   "metadata": {},
   "outputs": [
    {
     "data": {
      "text/plain": [
       "(array([1, 3, 5, 7, 9]), array([0, 1, 2, 3, 4]))"
      ]
     },
     "execution_count": 3,
     "metadata": {},
     "output_type": "execute_result"
    }
   ],
   "source": [
    "# 1-мерные массивы\n",
    "arr_1 = np.arange(1, 10, 2)\n",
    "arr_2 = np.arange(5)\n",
    "\n",
    "arr_1, arr_2"
   ]
  },
  {
   "cell_type": "code",
   "execution_count": 4,
   "id": "45deabcb",
   "metadata": {},
   "outputs": [
    {
     "data": {
      "text/plain": [
       "array([ 1,  4,  7, 10, 13])"
      ]
     },
     "execution_count": 4,
     "metadata": {},
     "output_type": "execute_result"
    }
   ],
   "source": [
    "# Поэлементное сложение массивов\n",
    "# \"+\" - алиас универсальной функции np.add\n",
    "arr_1 + arr_2"
   ]
  },
  {
   "cell_type": "code",
   "execution_count": 5,
   "id": "7934e2dd",
   "metadata": {},
   "outputs": [
    {
     "data": {
      "text/plain": [
       "array([ 1,  4,  7, 10, 13])"
      ]
     },
     "execution_count": 5,
     "metadata": {},
     "output_type": "execute_result"
    }
   ],
   "source": [
    "np.add(arr_1, arr_2)"
   ]
  },
  {
   "cell_type": "code",
   "execution_count": 6,
   "id": "8c6fe720",
   "metadata": {},
   "outputs": [
    {
     "data": {
      "text/plain": [
       "array([ 0,  3, 10, 21, 36])"
      ]
     },
     "execution_count": 6,
     "metadata": {},
     "output_type": "execute_result"
    }
   ],
   "source": [
    "# Поэлементное умножение массивов (произведение Адамара)\n",
    "arr_1 * arr_2"
   ]
  },
  {
   "cell_type": "code",
   "execution_count": 7,
   "id": "07db10cd",
   "metadata": {},
   "outputs": [
    {
     "data": {
      "text/plain": [
       "(array([[0, 1, 2],\n",
       "        [3, 4, 5],\n",
       "        [6, 7, 8]]),\n",
       " array([[10, 11, 12],\n",
       "        [13, 14, 15],\n",
       "        [16, 17, 18]]))"
      ]
     },
     "execution_count": 7,
     "metadata": {},
     "output_type": "execute_result"
    }
   ],
   "source": [
    "# 2-мерные массивы\n",
    "arr_3 = np.arange(9).reshape((3,3))\n",
    "arr_4 = np.arange(10, 19).reshape((3,3))\n",
    "\n",
    "arr_3, arr_4"
   ]
  },
  {
   "cell_type": "code",
   "execution_count": 8,
   "id": "56c217a0",
   "metadata": {},
   "outputs": [
    {
     "data": {
      "text/plain": [
       "array([[  0,  11,  24],\n",
       "       [ 39,  56,  75],\n",
       "       [ 96, 119, 144]])"
      ]
     },
     "execution_count": 8,
     "metadata": {},
     "output_type": "execute_result"
    }
   ],
   "source": [
    "arr_3 * arr_4"
   ]
  },
  {
   "cell_type": "code",
   "execution_count": 9,
   "id": "10c52f5e",
   "metadata": {},
   "outputs": [
    {
     "data": {
      "text/plain": [
       "(array([1, 3, 5, 7, 9]), array([0, 1, 2, 3, 4]))"
      ]
     },
     "execution_count": 9,
     "metadata": {},
     "output_type": "execute_result"
    }
   ],
   "source": [
    "# Матричное умножение (точечное умножение)\n",
    "arr_1, arr_2"
   ]
  },
  {
   "cell_type": "code",
   "execution_count": 10,
   "id": "c672864a",
   "metadata": {},
   "outputs": [
    {
     "data": {
      "text/plain": [
       "array([[0],\n",
       "       [1],\n",
       "       [2],\n",
       "       [3],\n",
       "       [4]])"
      ]
     },
     "execution_count": 10,
     "metadata": {},
     "output_type": "execute_result"
    }
   ],
   "source": [
    "arr_2_col = arr_2.reshape((5,1))\n",
    "arr_2_col"
   ]
  },
  {
   "cell_type": "code",
   "execution_count": 11,
   "id": "69ac7e81",
   "metadata": {},
   "outputs": [
    {
     "data": {
      "text/plain": [
       "array([70])"
      ]
     },
     "execution_count": 11,
     "metadata": {},
     "output_type": "execute_result"
    }
   ],
   "source": [
    "np.dot(arr_1, arr_2_col)"
   ]
  },
  {
   "cell_type": "code",
   "execution_count": 12,
   "id": "6dc9ff85",
   "metadata": {},
   "outputs": [
    {
     "data": {
      "text/plain": [
       "array([70])"
      ]
     },
     "execution_count": 12,
     "metadata": {},
     "output_type": "execute_result"
    }
   ],
   "source": [
    "  arr_1 @ arr_2_col"
   ]
  },
  {
   "cell_type": "code",
   "execution_count": 13,
   "id": "450153d2",
   "metadata": {},
   "outputs": [
    {
     "data": {
      "text/plain": [
       "(array([[ 0,  1,  2,  3,  4],\n",
       "        [ 5,  6,  7,  8,  9],\n",
       "        [10, 11, 12, 13, 14]]),\n",
       " array([[ 0,  1,  2,  3],\n",
       "        [ 4,  5,  6,  7],\n",
       "        [ 8,  9, 10, 11],\n",
       "        [12, 13, 14, 15],\n",
       "        [16, 17, 18, 19]]))"
      ]
     },
     "execution_count": 13,
     "metadata": {},
     "output_type": "execute_result"
    }
   ],
   "source": [
    "arr_5 = np.arange(15).reshape((3,5))\n",
    "arr_6 = np.arange(20).reshape((5,4))\n",
    "arr_5, arr_6"
   ]
  },
  {
   "cell_type": "code",
   "execution_count": 14,
   "id": "7caacdbc",
   "metadata": {},
   "outputs": [
    {
     "data": {
      "text/plain": [
       "array([[120, 130, 140, 150],\n",
       "       [320, 355, 390, 425],\n",
       "       [520, 580, 640, 700]])"
      ]
     },
     "execution_count": 14,
     "metadata": {},
     "output_type": "execute_result"
    }
   ],
   "source": [
    "# (3, 5)*(5, 4) = (3, 4)\n",
    "arr_5 @ arr_6"
   ]
  },
  {
   "cell_type": "code",
   "execution_count": 15,
   "id": "e0413e7b",
   "metadata": {},
   "outputs": [
    {
     "data": {
      "text/plain": [
       "(array([0, 1, 2, 3, 4]),\n",
       " array([[ 0,  1,  2,  3],\n",
       "        [ 4,  5,  6,  7],\n",
       "        [ 8,  9, 10, 11],\n",
       "        [12, 13, 14, 15],\n",
       "        [16, 17, 18, 19]]))"
      ]
     },
     "execution_count": 15,
     "metadata": {},
     "output_type": "execute_result"
    }
   ],
   "source": [
    "# вектор-строка @ матрица -> вектор-строка\n",
    "arr_7 = np.arange(5)\n",
    "arr_8 = np.arange(20).reshape((5,4))\n",
    "arr_7, arr_8"
   ]
  },
  {
   "cell_type": "code",
   "execution_count": 16,
   "id": "c26b453b",
   "metadata": {},
   "outputs": [
    {
     "data": {
      "text/plain": [
       "array([120, 130, 140, 150])"
      ]
     },
     "execution_count": 16,
     "metadata": {},
     "output_type": "execute_result"
    }
   ],
   "source": [
    "arr_7 @ arr_8"
   ]
  },
  {
   "cell_type": "code",
   "execution_count": 17,
   "id": "af769150",
   "metadata": {},
   "outputs": [
    {
     "data": {
      "text/plain": [
       "(array([1, 3, 5, 7, 9]), array([0, 1, 2, 3, 4]))"
      ]
     },
     "execution_count": 17,
     "metadata": {},
     "output_type": "execute_result"
    }
   ],
   "source": [
    "# Логические операции\n",
    "arr_1, arr_2"
   ]
  },
  {
   "cell_type": "code",
   "execution_count": 18,
   "id": "422404ae",
   "metadata": {},
   "outputs": [
    {
     "data": {
      "text/plain": [
       "array([ True,  True,  True,  True,  True])"
      ]
     },
     "execution_count": 18,
     "metadata": {},
     "output_type": "execute_result"
    }
   ],
   "source": [
    "arr_1 > arr_2"
   ]
  },
  {
   "cell_type": "code",
   "execution_count": 20,
   "id": "0b17dec2",
   "metadata": {},
   "outputs": [
    {
     "data": {
      "text/plain": [
       "array([ True,  True,  True,  True,  True])"
      ]
     },
     "execution_count": 20,
     "metadata": {},
     "output_type": "execute_result"
    }
   ],
   "source": [
    "arr_1 != arr_2"
   ]
  },
  {
   "cell_type": "code",
   "execution_count": 21,
   "id": "17e68f49",
   "metadata": {},
   "outputs": [
    {
     "data": {
      "text/plain": [
       "array([2, 9, 4, 7, 3, 7, 9])"
      ]
     },
     "execution_count": 21,
     "metadata": {},
     "output_type": "execute_result"
    }
   ],
   "source": [
    "# Агрегирование -вычисление неких сводных показателей\n",
    "arr_9 = np.random.randint(10, size = 7)\n",
    "arr_9"
   ]
  },
  {
   "cell_type": "code",
   "execution_count": 22,
   "id": "22110108",
   "metadata": {},
   "outputs": [
    {
     "data": {
      "text/plain": [
       "41"
      ]
     },
     "execution_count": 22,
     "metadata": {},
     "output_type": "execute_result"
    }
   ],
   "source": [
    "# возвращает сумму всех значений\n",
    "np.sum (arr_9)"
   ]
  },
  {
   "cell_type": "code",
   "execution_count": 28,
   "id": "1fc35706",
   "metadata": {},
   "outputs": [
    {
     "data": {
      "text/plain": [
       "array([[ 0,  1,  2,  3],\n",
       "       [ 4,  5,  6,  7],\n",
       "       [ 8,  9, 10, 11]])"
      ]
     },
     "execution_count": 28,
     "metadata": {},
     "output_type": "execute_result"
    }
   ],
   "source": [
    "arr_10 = np.arange(12).reshape ((3, 4))\n",
    "arr_10"
   ]
  },
  {
   "cell_type": "code",
   "execution_count": 29,
   "id": "a81c5483",
   "metadata": {},
   "outputs": [
    {
     "data": {
      "text/plain": [
       "array([12, 15, 18, 21])"
      ]
     },
     "execution_count": 29,
     "metadata": {},
     "output_type": "execute_result"
    }
   ],
   "source": [
    "# суммирование вдоль столбцов\n",
    "np.sum(arr_10, axis=0)"
   ]
  },
  {
   "cell_type": "code",
   "execution_count": 30,
   "id": "d12a9b4f",
   "metadata": {},
   "outputs": [
    {
     "data": {
      "text/plain": [
       "array([ 6, 22, 38])"
      ]
     },
     "execution_count": 30,
     "metadata": {},
     "output_type": "execute_result"
    }
   ],
   "source": [
    "# суммирование вдоль строк\n",
    "np.sum(arr_10, axis=1)"
   ]
  },
  {
   "cell_type": "code",
   "execution_count": 33,
   "id": "8149ad3f",
   "metadata": {},
   "outputs": [
    {
     "data": {
      "text/plain": [
       "array([12, 15, 18, 21])"
      ]
     },
     "execution_count": 33,
     "metadata": {},
     "output_type": "execute_result"
    }
   ],
   "source": [
    "arr_10.sum(axis=0)"
   ]
  },
  {
   "cell_type": "code",
   "execution_count": 34,
   "id": "dd62cbd4",
   "metadata": {},
   "outputs": [
    {
     "data": {
      "text/plain": [
       "0"
      ]
     },
     "execution_count": 34,
     "metadata": {},
     "output_type": "execute_result"
    }
   ],
   "source": [
    "# минимум\n",
    "# по всему массиву\n",
    "np.min(arr_10)"
   ]
  },
  {
   "cell_type": "code",
   "execution_count": 38,
   "id": "4812ba2c",
   "metadata": {},
   "outputs": [
    {
     "data": {
      "text/plain": [
       "array([0, 1, 2, 3])"
      ]
     },
     "execution_count": 38,
     "metadata": {},
     "output_type": "execute_result"
    }
   ],
   "source": [
    "# минимум вдоль столбцов\n",
    "np.min(arr_10, axis = 0)"
   ]
  },
  {
   "cell_type": "code",
   "execution_count": 39,
   "id": "7b1ab537",
   "metadata": {},
   "outputs": [
    {
     "data": {
      "text/plain": [
       "5.5"
      ]
     },
     "execution_count": 39,
     "metadata": {},
     "output_type": "execute_result"
    }
   ],
   "source": [
    "# среднее арифметическое значение\n",
    "np.mean(arr_10)"
   ]
  },
  {
   "cell_type": "code",
   "execution_count": 49,
   "id": "44a1c94e",
   "metadata": {},
   "outputs": [
    {
     "data": {
      "text/plain": [
       "(array([[50.33333333, 59.        , 55.66666667, 26.66666667, 33.33333333],\n",
       "        [43.33333333, 68.33333333, 41.66666667, 58.66666667, 63.33333333],\n",
       "        [81.        , 58.        , 45.        , 59.33333333, 58.66666667],\n",
       "        [70.66666667, 64.66666667, 66.66666667, 47.        , 61.        ]]),\n",
       " array([[49.75, 70.5 , 33.5 , 52.75, 62.  ],\n",
       "        [62.  , 60.  , 65.25, 44.25, 56.5 ],\n",
       "        [72.25, 57.  , 58.  , 46.75, 43.75]]),\n",
       " array([[40.4, 39.2, 56.8, 78.4],\n",
       "        [40. , 68.8, 57.6, 64. ],\n",
       "        [54.6, 57.2, 66.8, 43.6]]))"
      ]
     },
     "execution_count": 49,
     "metadata": {},
     "output_type": "execute_result"
    }
   ],
   "source": [
    "# вычислить сред значение по всем осям произвольного 3-мерного значения\n",
    "arr_11 = np.random.randint(10, 100, size=(3, 4, 5))\n",
    "np.mean(arr_11, axis=0), np.mean(arr_11, axis=1), np.mean(arr_11, axis=2)"
   ]
  },
  {
   "cell_type": "markdown",
   "id": "405a6bde",
   "metadata": {},
   "source": [
    "- Маскирование"
   ]
  },
  {
   "cell_type": "code",
   "execution_count": 50,
   "id": "7bb72c34",
   "metadata": {},
   "outputs": [
    {
     "data": {
      "text/plain": [
       "array([0, 1, 2, 3, 4])"
      ]
     },
     "execution_count": 50,
     "metadata": {},
     "output_type": "execute_result"
    }
   ],
   "source": [
    "arr_12 = np.arange(5)\n",
    "arr_12"
   ]
  },
  {
   "cell_type": "code",
   "execution_count": 53,
   "id": "b8809603",
   "metadata": {},
   "outputs": [
    {
     "data": {
      "text/plain": [
       "array([False, False, False,  True,  True])"
      ]
     },
     "execution_count": 53,
     "metadata": {},
     "output_type": "execute_result"
    }
   ],
   "source": [
    "arr_12 > 2"
   ]
  },
  {
   "cell_type": "code",
   "execution_count": 54,
   "id": "142d4b74",
   "metadata": {},
   "outputs": [
    {
     "data": {
      "text/plain": [
       "array([ True,  True,  True, False, False])"
      ]
     },
     "execution_count": 54,
     "metadata": {},
     "output_type": "execute_result"
    }
   ],
   "source": [
    "mask = arr_12 < 3\n",
    "mask"
   ]
  },
  {
   "cell_type": "code",
   "execution_count": 55,
   "id": "57807010",
   "metadata": {},
   "outputs": [
    {
     "data": {
      "text/plain": [
       "array([0, 1, 2])"
      ]
     },
     "execution_count": 55,
     "metadata": {},
     "output_type": "execute_result"
    }
   ],
   "source": [
    "arr_12[mask]"
   ]
  },
  {
   "cell_type": "code",
   "execution_count": 56,
   "id": "5ba5c354",
   "metadata": {},
   "outputs": [
    {
     "data": {
      "text/plain": [
       "array([[ 0,  1,  2,  3],\n",
       "       [ 4,  5,  6,  7],\n",
       "       [ 8,  9, 10, 11]])"
      ]
     },
     "execution_count": 56,
     "metadata": {},
     "output_type": "execute_result"
    }
   ],
   "source": [
    "arr_13 = np.arange(12).reshape((3,4))\n",
    "arr_13"
   ]
  },
  {
   "cell_type": "code",
   "execution_count": 57,
   "id": "ecb9bcbd",
   "metadata": {},
   "outputs": [
    {
     "data": {
      "text/plain": [
       "array([0, 1, 2, 3, 4, 5])"
      ]
     },
     "execution_count": 57,
     "metadata": {},
     "output_type": "execute_result"
    }
   ],
   "source": [
    "arr_13[arr_13 < 6]"
   ]
  },
  {
   "cell_type": "code",
   "execution_count": null,
   "id": "9ae6a203",
   "metadata": {},
   "outputs": [],
   "source": []
  }
 ],
 "metadata": {
  "kernelspec": {
   "display_name": "Python 3 (ipykernel)",
   "language": "python",
   "name": "python3"
  },
  "language_info": {
   "codemirror_mode": {
    "name": "ipython",
    "version": 3
   },
   "file_extension": ".py",
   "mimetype": "text/x-python",
   "name": "python",
   "nbconvert_exporter": "python",
   "pygments_lexer": "ipython3",
   "version": "3.9.7"
  }
 },
 "nbformat": 4,
 "nbformat_minor": 5
}
