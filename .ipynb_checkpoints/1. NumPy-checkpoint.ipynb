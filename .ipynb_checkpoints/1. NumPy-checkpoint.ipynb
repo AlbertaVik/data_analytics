{
 "cells": [
  {
   "cell_type": "markdown",
   "id": "4aa7948c",
   "metadata": {},
   "source": [
    "# Массивы\n",
    "## создание массивов"
   ]
  },
  {
   "cell_type": "code",
   "execution_count": 4,
   "id": "88be3387",
   "metadata": {},
   "outputs": [
    {
     "name": "stdout",
     "output_type": "stream",
     "text": [
      "Hello, Alya!\n"
     ]
    }
   ],
   "source": [
    "print(\"Hello, Alya!\")"
   ]
  },
  {
   "cell_type": "code",
   "execution_count": 12,
   "id": "ca7ea51c",
   "metadata": {},
   "outputs": [
    {
     "name": "stdout",
     "output_type": "stream",
     "text": [
      "Hello, Python!\n",
      "Hello,NumPy!\n"
     ]
    }
   ],
   "source": [
    "a = \"Hello, Python!\"\n",
    "b = \"Hello,NumPy!\"\n",
    "print(a)\n",
    "print(b)"
   ]
  },
  {
   "cell_type": "code",
   "execution_count": 14,
   "id": "39dabb91",
   "metadata": {},
   "outputs": [
    {
     "data": {
      "text/plain": [
       "array([10, 20, 30, 40])"
      ]
     },
     "execution_count": 14,
     "metadata": {},
     "output_type": "execute_result"
    }
   ],
   "source": [
    "# Импортирование библиотеки NumPy\n",
    "import numpy as np\n",
    "\n",
    "# создание массива на базе списка \n",
    "my_list = [10, 20, 30, 40]\n",
    "np.array(my_list)"
   ]
  },
  {
   "cell_type": "code",
   "execution_count": 15,
   "id": "0244c8c1",
   "metadata": {},
   "outputs": [
    {
     "data": {
      "text/plain": [
       "'Hello, Python!'"
      ]
     },
     "execution_count": 15,
     "metadata": {},
     "output_type": "execute_result"
    }
   ],
   "source": [
    "a"
   ]
  },
  {
   "cell_type": "code",
   "execution_count": 16,
   "id": "a58bdc6e",
   "metadata": {},
   "outputs": [
    {
     "data": {
      "text/plain": [
       "'Hello,NumPy!'"
      ]
     },
     "execution_count": 16,
     "metadata": {},
     "output_type": "execute_result"
    }
   ],
   "source": [
    "b"
   ]
  }
 ],
 "metadata": {
  "kernelspec": {
   "display_name": "Python 3 (ipykernel)",
   "language": "python",
   "name": "python3"
  },
  "language_info": {
   "codemirror_mode": {
    "name": "ipython",
    "version": 3
   },
   "file_extension": ".py",
   "mimetype": "text/x-python",
   "name": "python",
   "nbconvert_exporter": "python",
   "pygments_lexer": "ipython3",
   "version": "3.9.7"
  }
 },
 "nbformat": 4,
 "nbformat_minor": 5
}
